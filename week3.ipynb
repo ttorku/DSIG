{
 "cells": [
  {
   "cell_type": "code",
   "execution_count": 3,
   "id": "f61b03c9-da9a-45d3-960d-6df245118660",
   "metadata": {},
   "outputs": [],
   "source": [
    "# Import necessary libraries\n",
    "import pandas as pd\n",
    "import numpy as np"
   ]
  },
  {
   "cell_type": "code",
   "execution_count": 5,
   "id": "e5b27647-82f3-4629-b2e2-a8498ecdef15",
   "metadata": {},
   "outputs": [
    {
     "data": {
      "text/html": [
       "<div>\n",
       "<style scoped>\n",
       "    .dataframe tbody tr th:only-of-type {\n",
       "        vertical-align: middle;\n",
       "    }\n",
       "\n",
       "    .dataframe tbody tr th {\n",
       "        vertical-align: top;\n",
       "    }\n",
       "\n",
       "    .dataframe thead th {\n",
       "        text-align: right;\n",
       "    }\n",
       "</style>\n",
       "<table border=\"1\" class=\"dataframe\">\n",
       "  <thead>\n",
       "    <tr style=\"text-align: right;\">\n",
       "      <th></th>\n",
       "      <th>A</th>\n",
       "      <th>B</th>\n",
       "    </tr>\n",
       "  </thead>\n",
       "  <tbody>\n",
       "    <tr>\n",
       "      <th>0</th>\n",
       "      <td>1.0</td>\n",
       "      <td>4.0</td>\n",
       "    </tr>\n",
       "    <tr>\n",
       "      <th>1</th>\n",
       "      <td>NaN</td>\n",
       "      <td>5.0</td>\n",
       "    </tr>\n",
       "    <tr>\n",
       "      <th>2</th>\n",
       "      <td>3.0</td>\n",
       "      <td>NaN</td>\n",
       "    </tr>\n",
       "  </tbody>\n",
       "</table>\n",
       "</div>"
      ],
      "text/plain": [
       "     A    B\n",
       "0  1.0  4.0\n",
       "1  NaN  5.0\n",
       "2  3.0  NaN"
      ]
     },
     "execution_count": 5,
     "metadata": {},
     "output_type": "execute_result"
    }
   ],
   "source": [
    "# Example 1: Handling Missing Data\n",
    "# Create a DataFrame with NaN values\n",
    "data = {'A': [1, np.nan, 3], 'B': [4, 5, np.nan]}\n",
    "df = pd.DataFrame(data)\n",
    "df"
   ]
  },
  {
   "cell_type": "code",
   "execution_count": 7,
   "id": "40edceac-f7b9-49a1-8024-397d296d0f07",
   "metadata": {},
   "outputs": [
    {
     "name": "stdout",
     "output_type": "stream",
     "text": [
      "Filled DataFrame with zeros:\n",
      "     A    B\n",
      "0  1.0  4.0\n",
      "1  2.0  5.0\n",
      "2  3.0  4.5\n"
     ]
    }
   ],
   "source": [
    "# Fill missing values with zero, median, mean, mode\n",
    "df_filled = df.fillna(df.mean())\n",
    "print(\"Filled DataFrame with zeros:\")\n",
    "print(df_filled)"
   ]
  },
  {
   "cell_type": "code",
   "execution_count": 9,
   "id": "15ab1f40-5018-464a-bf0c-aaa771b3700e",
   "metadata": {},
   "outputs": [
    {
     "data": {
      "text/plain": [
       "MultiIndex([('Group1', 'Item1'),\n",
       "            ('Group1', 'Item2'),\n",
       "            ('Group2', 'Item1'),\n",
       "            ('Group2', 'Item2')],\n",
       "           names=['Group', 'Item'])"
      ]
     },
     "execution_count": 9,
     "metadata": {},
     "output_type": "execute_result"
    }
   ],
   "source": [
    "# Example 2: Hierarchical Indexing\n",
    "# Multi-level indexing for higher-dimensional data\n",
    "arrays = [['Group1', 'Group1', 'Group2', 'Group2'],\n",
    "          ['Item1', 'Item2', 'Item1', 'Item2']]\n",
    "index = pd.MultiIndex.from_arrays(arrays, names=('Group', 'Item'))\n",
    "index"
   ]
  },
  {
   "cell_type": "code",
   "execution_count": 11,
   "id": "24cda423-3634-47b1-b99b-ab3d98f271bd",
   "metadata": {},
   "outputs": [
    {
     "name": "stdout",
     "output_type": "stream",
     "text": [
      "\n",
      "Hierarchical DataFrame:\n",
      "              Value\n",
      "Group  Item        \n",
      "Group1 Item1     10\n",
      "       Item2     20\n",
      "Group2 Item1     30\n",
      "       Item2     40\n"
     ]
    }
   ],
   "source": [
    "# Create DataFrame with hierarchical index\n",
    "df_hierarchical = pd.DataFrame({'Value': [10, 20, 30, 40]}, index=index)\n",
    "print(\"\\nHierarchical DataFrame:\")\n",
    "print(df_hierarchical)"
   ]
  },
  {
   "cell_type": "code",
   "execution_count": 13,
   "id": "35727edd-6bee-4dd5-890f-9453273f0ce9",
   "metadata": {},
   "outputs": [
    {
     "data": {
      "text/html": [
       "<div>\n",
       "<style scoped>\n",
       "    .dataframe tbody tr th:only-of-type {\n",
       "        vertical-align: middle;\n",
       "    }\n",
       "\n",
       "    .dataframe tbody tr th {\n",
       "        vertical-align: top;\n",
       "    }\n",
       "\n",
       "    .dataframe thead th {\n",
       "        text-align: right;\n",
       "    }\n",
       "</style>\n",
       "<table border=\"1\" class=\"dataframe\">\n",
       "  <thead>\n",
       "    <tr style=\"text-align: right;\">\n",
       "      <th></th>\n",
       "      <th>Team</th>\n",
       "      <th>Player</th>\n",
       "      <th>Points</th>\n",
       "    </tr>\n",
       "  </thead>\n",
       "  <tbody>\n",
       "    <tr>\n",
       "      <th>0</th>\n",
       "      <td>A</td>\n",
       "      <td>P1</td>\n",
       "      <td>10</td>\n",
       "    </tr>\n",
       "    <tr>\n",
       "      <th>1</th>\n",
       "      <td>A</td>\n",
       "      <td>P2</td>\n",
       "      <td>20</td>\n",
       "    </tr>\n",
       "    <tr>\n",
       "      <th>2</th>\n",
       "      <td>B</td>\n",
       "      <td>P3</td>\n",
       "      <td>15</td>\n",
       "    </tr>\n",
       "    <tr>\n",
       "      <th>3</th>\n",
       "      <td>B</td>\n",
       "      <td>P4</td>\n",
       "      <td>25</td>\n",
       "    </tr>\n",
       "  </tbody>\n",
       "</table>\n",
       "</div>"
      ],
      "text/plain": [
       "  Team Player  Points\n",
       "0    A     P1      10\n",
       "1    A     P2      20\n",
       "2    B     P3      15\n",
       "3    B     P4      25"
      ]
     },
     "execution_count": 13,
     "metadata": {},
     "output_type": "execute_result"
    }
   ],
   "source": [
    "# Example 3: Multi-level Grouping\n",
    "# Grouping data using multiple keys\n",
    "data_grouping = {\n",
    "    'Team': ['A', 'A', 'B', 'B'],\n",
    "    'Player': ['P1', 'P2', 'P3', 'P4'],\n",
    "    'Points': [10, 20, 15, 25]\n",
    "}\n",
    "df_grouping = pd.DataFrame(data_grouping)\n",
    "\n",
    "df_grouping"
   ]
  },
  {
   "cell_type": "code",
   "execution_count": 15,
   "id": "64d9347a-4579-40c8-99f8-7652d4d1ea77",
   "metadata": {},
   "outputs": [
    {
     "name": "stdout",
     "output_type": "stream",
     "text": [
      "\n",
      "Grouped DataFrame:\n",
      "             Points\n",
      "Team Player        \n",
      "A    P1          10\n",
      "     P2          20\n",
      "B    P3          15\n",
      "     P4          25\n"
     ]
    }
   ],
   "source": [
    "# Group by multiple keys (Team and Player) and sum the points\n",
    "grouped = df_grouping.groupby(['Team', 'Player']).sum()\n",
    "print(\"\\nGrouped DataFrame:\")\n",
    "print(grouped)"
   ]
  },
  {
   "cell_type": "code",
   "execution_count": 17,
   "id": "3487efce-ff84-4400-bd71-06c1afc3972e",
   "metadata": {},
   "outputs": [],
   "source": [
    "# Example 4: Concatenating DataFrames\n",
    "# Concatenating two DataFrames along rows\n",
    "df1 = pd.DataFrame({'A': [1, 2]}, index=[0, 1])\n",
    "df2 = pd.DataFrame({'A': [3, 4]}, index=[2, 3])"
   ]
  },
  {
   "cell_type": "code",
   "execution_count": 19,
   "id": "f93080f0-4277-4c94-950f-f977dab38ef3",
   "metadata": {},
   "outputs": [
    {
     "data": {
      "text/html": [
       "<div>\n",
       "<style scoped>\n",
       "    .dataframe tbody tr th:only-of-type {\n",
       "        vertical-align: middle;\n",
       "    }\n",
       "\n",
       "    .dataframe tbody tr th {\n",
       "        vertical-align: top;\n",
       "    }\n",
       "\n",
       "    .dataframe thead th {\n",
       "        text-align: right;\n",
       "    }\n",
       "</style>\n",
       "<table border=\"1\" class=\"dataframe\">\n",
       "  <thead>\n",
       "    <tr style=\"text-align: right;\">\n",
       "      <th></th>\n",
       "      <th>A</th>\n",
       "    </tr>\n",
       "  </thead>\n",
       "  <tbody>\n",
       "    <tr>\n",
       "      <th>2</th>\n",
       "      <td>3</td>\n",
       "    </tr>\n",
       "    <tr>\n",
       "      <th>3</th>\n",
       "      <td>4</td>\n",
       "    </tr>\n",
       "  </tbody>\n",
       "</table>\n",
       "</div>"
      ],
      "text/plain": [
       "   A\n",
       "2  3\n",
       "3  4"
      ]
     },
     "execution_count": 19,
     "metadata": {},
     "output_type": "execute_result"
    }
   ],
   "source": [
    "df2"
   ]
  },
  {
   "cell_type": "code",
   "execution_count": 21,
   "id": "f3ddd3f2-fb39-434e-b77c-995c31b23d18",
   "metadata": {},
   "outputs": [
    {
     "data": {
      "text/html": [
       "<div>\n",
       "<style scoped>\n",
       "    .dataframe tbody tr th:only-of-type {\n",
       "        vertical-align: middle;\n",
       "    }\n",
       "\n",
       "    .dataframe tbody tr th {\n",
       "        vertical-align: top;\n",
       "    }\n",
       "\n",
       "    .dataframe thead th {\n",
       "        text-align: right;\n",
       "    }\n",
       "</style>\n",
       "<table border=\"1\" class=\"dataframe\">\n",
       "  <thead>\n",
       "    <tr style=\"text-align: right;\">\n",
       "      <th></th>\n",
       "      <th>A</th>\n",
       "    </tr>\n",
       "  </thead>\n",
       "  <tbody>\n",
       "    <tr>\n",
       "      <th>0</th>\n",
       "      <td>1</td>\n",
       "    </tr>\n",
       "    <tr>\n",
       "      <th>1</th>\n",
       "      <td>2</td>\n",
       "    </tr>\n",
       "  </tbody>\n",
       "</table>\n",
       "</div>"
      ],
      "text/plain": [
       "   A\n",
       "0  1\n",
       "1  2"
      ]
     },
     "execution_count": 21,
     "metadata": {},
     "output_type": "execute_result"
    }
   ],
   "source": [
    "df1"
   ]
  },
  {
   "cell_type": "code",
   "execution_count": 23,
   "id": "d69b79aa-15a7-4edb-9bbf-f7cd04b6ce49",
   "metadata": {},
   "outputs": [
    {
     "name": "stdout",
     "output_type": "stream",
     "text": [
      "\n",
      "Concatenated DataFrame:\n",
      "   A\n",
      "0  1\n",
      "1  2\n",
      "2  3\n",
      "3  4\n"
     ]
    }
   ],
   "source": [
    "# Concatenate df1 and df2\n",
    "df_concat = pd.concat([df1, df2])\n",
    "print(\"\\nConcatenated DataFrame:\")\n",
    "print(df_concat)"
   ]
  },
  {
   "cell_type": "code",
   "execution_count": 25,
   "id": "1ce89b4c-e87b-4d17-91ab-c457e7827e6d",
   "metadata": {},
   "outputs": [
    {
     "data": {
      "text/plain": [
       "array([[2, 3, 5],\n",
       "       [6, 7, 8]])"
      ]
     },
     "execution_count": 25,
     "metadata": {},
     "output_type": "execute_result"
    }
   ],
   "source": [
    "arr =np.array([[2,3,5], [6,7,8]])\n",
    "arr"
   ]
  },
  {
   "cell_type": "code",
   "execution_count": 27,
   "id": "20a1e7c7-f0d7-403d-99b8-7437a9fd1ca5",
   "metadata": {},
   "outputs": [
    {
     "data": {
      "text/plain": [
       "(2, 3)"
      ]
     },
     "execution_count": 27,
     "metadata": {},
     "output_type": "execute_result"
    }
   ],
   "source": [
    "arr.shape"
   ]
  },
  {
   "cell_type": "code",
   "execution_count": 29,
   "id": "75724d0f-bf12-4132-ab03-8860c2ceeb17",
   "metadata": {},
   "outputs": [
    {
     "data": {
      "text/plain": [
       "array([[2, 3],\n",
       "       [5, 6],\n",
       "       [7, 8]])"
      ]
     },
     "execution_count": 29,
     "metadata": {},
     "output_type": "execute_result"
    }
   ],
   "source": [
    "arr1=arr.reshape((3,2))\n",
    "arr1"
   ]
  },
  {
   "cell_type": "code",
   "execution_count": 31,
   "id": "15342f44-c9fc-4fa9-848b-7a97b3fee732",
   "metadata": {},
   "outputs": [
    {
     "data": {
      "text/plain": [
       "array([[2, 3, 5],\n",
       "       [6, 7, 8]])"
      ]
     },
     "execution_count": 31,
     "metadata": {},
     "output_type": "execute_result"
    }
   ],
   "source": [
    "arr2 =arr.copy()\n",
    "arr2"
   ]
  },
  {
   "cell_type": "code",
   "execution_count": 33,
   "id": "84dd73bb-93b8-4c81-86bf-efafa3a70b83",
   "metadata": {},
   "outputs": [
    {
     "data": {
      "text/html": [
       "<div>\n",
       "<style scoped>\n",
       "    .dataframe tbody tr th:only-of-type {\n",
       "        vertical-align: middle;\n",
       "    }\n",
       "\n",
       "    .dataframe tbody tr th {\n",
       "        vertical-align: top;\n",
       "    }\n",
       "\n",
       "    .dataframe thead th {\n",
       "        text-align: right;\n",
       "    }\n",
       "</style>\n",
       "<table border=\"1\" class=\"dataframe\">\n",
       "  <thead>\n",
       "    <tr style=\"text-align: right;\">\n",
       "      <th></th>\n",
       "      <th>ID</th>\n",
       "      <th>Score1</th>\n",
       "      <th>Score2</th>\n",
       "    </tr>\n",
       "  </thead>\n",
       "  <tbody>\n",
       "    <tr>\n",
       "      <th>0</th>\n",
       "      <td>1</td>\n",
       "      <td>90</td>\n",
       "      <td>85</td>\n",
       "    </tr>\n",
       "    <tr>\n",
       "      <th>1</th>\n",
       "      <td>2</td>\n",
       "      <td>80</td>\n",
       "      <td>75</td>\n",
       "    </tr>\n",
       "    <tr>\n",
       "      <th>2</th>\n",
       "      <td>3</td>\n",
       "      <td>70</td>\n",
       "      <td>65</td>\n",
       "    </tr>\n",
       "  </tbody>\n",
       "</table>\n",
       "</div>"
      ],
      "text/plain": [
       "   ID  Score1  Score2\n",
       "0   1      90      85\n",
       "1   2      80      75\n",
       "2   3      70      65"
      ]
     },
     "execution_count": 33,
     "metadata": {},
     "output_type": "execute_result"
    }
   ],
   "source": [
    "# Example 5: Reshaping Data with melt()\n",
    "# Create a DataFrame with multiple columns\n",
    "df_reshaping = pd.DataFrame({\n",
    "    'ID': [1, 2, 3],\n",
    "    'Score1': [90, 80, 70],\n",
    "    'Score2': [85, 75, 65]\n",
    "})\n",
    "\n",
    "df_reshaping"
   ]
  },
  {
   "cell_type": "code",
   "execution_count": 35,
   "id": "99047a33-79e0-41e1-b485-2eff5d2d7471",
   "metadata": {},
   "outputs": [
    {
     "name": "stdout",
     "output_type": "stream",
     "text": [
      "\n",
      "Melted DataFrame:\n",
      "   ID    Exam  Score\n",
      "0   1  Score1     90\n",
      "1   2  Score1     80\n",
      "2   3  Score1     70\n",
      "3   1  Score2     85\n",
      "4   2  Score2     75\n",
      "5   3  Score2     65\n"
     ]
    }
   ],
   "source": [
    "# Melt the DataFrame to reshape it\n",
    "df_melted = pd.melt(df_reshaping, id_vars=['ID'], var_name='Exam', value_name='Score')\n",
    "print(\"\\nMelted DataFrame:\")\n",
    "print(df_melted)"
   ]
  },
  {
   "cell_type": "code",
   "execution_count": 37,
   "id": "c217ed65-4571-436b-82d3-da773d2172c2",
   "metadata": {},
   "outputs": [
    {
     "name": "stdout",
     "output_type": "stream",
     "text": [
      "    A    B\n",
      "0  10  100\n",
      "1  20  200\n",
      "2  30  300\n",
      "\n",
      "Normalized DataFrame:\n",
      "     A    B\n",
      "0  0.0  0.0\n",
      "1  0.5  0.5\n",
      "2  1.0  1.0\n"
     ]
    }
   ],
   "source": [
    "# Example 6: Data Normalization\n",
    "# Create a DataFrame with numeric values\n",
    "df_normalize = pd.DataFrame({'A': [10, 20, 30], 'B': [100, 200, 300]})\n",
    "\n",
    "print(df_normalize)\n",
    "\n",
    "# Apply min-max normalization\n",
    "df_normalized = (df_normalize - df_normalize.min()) / (df_normalize.max() - df_normalize.min())\n",
    "print(\"\\nNormalized DataFrame:\")\n",
    "print(df_normalized)"
   ]
  },
  {
   "cell_type": "code",
   "execution_count": 43,
   "id": "46fe9b09-a870-4ca5-bdb0-4657676bc9bf",
   "metadata": {},
   "outputs": [
    {
     "data": {
      "text/html": [
       "<div>\n",
       "<style scoped>\n",
       "    .dataframe tbody tr th:only-of-type {\n",
       "        vertical-align: middle;\n",
       "    }\n",
       "\n",
       "    .dataframe tbody tr th {\n",
       "        vertical-align: top;\n",
       "    }\n",
       "\n",
       "    .dataframe thead th {\n",
       "        text-align: right;\n",
       "    }\n",
       "</style>\n",
       "<table border=\"1\" class=\"dataframe\">\n",
       "  <thead>\n",
       "    <tr style=\"text-align: right;\">\n",
       "      <th></th>\n",
       "      <th>Color</th>\n",
       "    </tr>\n",
       "  </thead>\n",
       "  <tbody>\n",
       "    <tr>\n",
       "      <th>0</th>\n",
       "      <td>Red</td>\n",
       "    </tr>\n",
       "    <tr>\n",
       "      <th>1</th>\n",
       "      <td>Blue</td>\n",
       "    </tr>\n",
       "    <tr>\n",
       "      <th>2</th>\n",
       "      <td>Green</td>\n",
       "    </tr>\n",
       "  </tbody>\n",
       "</table>\n",
       "</div>"
      ],
      "text/plain": [
       "   Color\n",
       "0    Red\n",
       "1   Blue\n",
       "2  Green"
      ]
     },
     "metadata": {},
     "output_type": "display_data"
    },
    {
     "name": "stdout",
     "output_type": "stream",
     "text": [
      "    Blue  Green    Red\n",
      "0  False  False   True\n",
      "1   True  False  False\n",
      "2  False   True  False\n"
     ]
    }
   ],
   "source": [
    "# Example 7: Creating Dummy Variables\n",
    "# Create a DataFrame with a categorical column\n",
    "df_categorical = pd.DataFrame({'Color': ['Red', 'Blue', 'Green']})\n",
    "\n",
    "display(df_categorical)\n",
    "\n",
    "# Convert categorical values into dummy/indicator variables\n",
    "df_dummies = pd.get_dummies(df_categorical['Color'])\n",
    "# print(\"\\nDataFrame with Dummy Variables:\")\n",
    "print(df_dummies)"
   ]
  },
  {
   "cell_type": "code",
   "execution_count": 49,
   "id": "516562fc-981e-4bfa-8841-34cef9e27aa0",
   "metadata": {},
   "outputs": [
    {
     "data": {
      "text/plain": [
       "DatetimeIndex(['2021-01-01', '2021-01-02', '2021-01-03', '2021-01-04',\n",
       "               '2021-01-05', '2021-01-06', '2021-01-07', '2021-01-08',\n",
       "               '2021-01-09', '2021-01-10'],\n",
       "              dtype='datetime64[ns]', freq='D')"
      ]
     },
     "metadata": {},
     "output_type": "display_data"
    },
    {
     "name": "stdout",
     "output_type": "stream",
     "text": [
      "DatetimeIndex(['2021-01-01', '2021-01-02', '2021-01-03', '2021-01-04',\n",
      "               '2021-01-05', '2021-01-06', '2021-01-07', '2021-01-08',\n",
      "               '2021-01-09', '2021-01-10'],\n",
      "              dtype='datetime64[ns]', freq='D')\n",
      "\n",
      "Time Series DataFrame:\n",
      "            data\n",
      "date            \n",
      "2021-01-01    48\n",
      "2021-01-02    55\n",
      "2021-01-03    27\n",
      "2021-01-04    87\n",
      "2021-01-05    23\n",
      "2021-01-06    13\n",
      "2021-01-07    38\n",
      "2021-01-08    72\n",
      "2021-01-09    48\n",
      "2021-01-10    58\n"
     ]
    },
    {
     "data": {
      "text/html": [
       "<div>\n",
       "<style scoped>\n",
       "    .dataframe tbody tr th:only-of-type {\n",
       "        vertical-align: middle;\n",
       "    }\n",
       "\n",
       "    .dataframe tbody tr th {\n",
       "        vertical-align: top;\n",
       "    }\n",
       "\n",
       "    .dataframe thead th {\n",
       "        text-align: right;\n",
       "    }\n",
       "</style>\n",
       "<table border=\"1\" class=\"dataframe\">\n",
       "  <thead>\n",
       "    <tr style=\"text-align: right;\">\n",
       "      <th></th>\n",
       "      <th>data</th>\n",
       "    </tr>\n",
       "    <tr>\n",
       "      <th>date</th>\n",
       "      <th></th>\n",
       "    </tr>\n",
       "  </thead>\n",
       "  <tbody>\n",
       "    <tr>\n",
       "      <th>2021-01-01</th>\n",
       "      <td>48</td>\n",
       "    </tr>\n",
       "    <tr>\n",
       "      <th>2021-01-02</th>\n",
       "      <td>55</td>\n",
       "    </tr>\n",
       "    <tr>\n",
       "      <th>2021-01-03</th>\n",
       "      <td>27</td>\n",
       "    </tr>\n",
       "    <tr>\n",
       "      <th>2021-01-04</th>\n",
       "      <td>87</td>\n",
       "    </tr>\n",
       "    <tr>\n",
       "      <th>2021-01-05</th>\n",
       "      <td>23</td>\n",
       "    </tr>\n",
       "    <tr>\n",
       "      <th>2021-01-06</th>\n",
       "      <td>13</td>\n",
       "    </tr>\n",
       "    <tr>\n",
       "      <th>2021-01-07</th>\n",
       "      <td>38</td>\n",
       "    </tr>\n",
       "    <tr>\n",
       "      <th>2021-01-08</th>\n",
       "      <td>72</td>\n",
       "    </tr>\n",
       "    <tr>\n",
       "      <th>2021-01-09</th>\n",
       "      <td>48</td>\n",
       "    </tr>\n",
       "    <tr>\n",
       "      <th>2021-01-10</th>\n",
       "      <td>58</td>\n",
       "    </tr>\n",
       "  </tbody>\n",
       "</table>\n",
       "</div>"
      ],
      "text/plain": [
       "            data\n",
       "date            \n",
       "2021-01-01    48\n",
       "2021-01-02    55\n",
       "2021-01-03    27\n",
       "2021-01-04    87\n",
       "2021-01-05    23\n",
       "2021-01-06    13\n",
       "2021-01-07    38\n",
       "2021-01-08    72\n",
       "2021-01-09    48\n",
       "2021-01-10    58"
      ]
     },
     "metadata": {},
     "output_type": "display_data"
    }
   ],
   "source": [
    "# Example 8: Time Series - Creating a Date Range\n",
    "# Create a date range for time series data\n",
    "date_rng = pd.date_range(start='2021-01-01', end='2021-01-10', freq='D')\n",
    "\n",
    "display(date_rng)\n",
    "print(date_rng)\n",
    "# # Create a DataFrame using the date range\n",
    "df_time_series = pd.DataFrame(date_rng, columns=['date'])\n",
    "df_time_series['data'] = np.random.randint(0, 100, size=(len(date_rng)))\n",
    "df_time_series = df_time_series.set_index('date')\n",
    "print(\"\\nTime Series DataFrame:\")\n",
    "print(df_time_series)\n",
    "display(df_time_series)"
   ]
  },
  {
   "cell_type": "code",
   "execution_count": 51,
   "id": "5796201a-00fb-4e3b-b2e7-d9e0decf4c14",
   "metadata": {},
   "outputs": [
    {
     "data": {
      "text/plain": [
       "<Axes: xlabel='date'>"
      ]
     },
     "execution_count": 51,
     "metadata": {},
     "output_type": "execute_result"
    },
    {
     "data": {
      "image/png": "[encoded data removed]",
      "text/plain": [
       "<Figure size 640x480 with 1 Axes>"
      ]
     },
     "metadata": {},
     "output_type": "display_data"
    }
   ],
   "source": [
    "df_time_series.plot()"
   ]
  },
  {
   "cell_type": "code",
   "execution_count": 56,
   "id": "d7328468-2798-44d6-8ec3-bf00a29f351a",
   "metadata": {},
   "outputs": [
    {
     "data": {
      "text/html": [
       "<div>\n",
       "<style scoped>\n",
       "    .dataframe tbody tr th:only-of-type {\n",
       "        vertical-align: middle;\n",
       "    }\n",
       "\n",
       "    .dataframe tbody tr th {\n",
       "        vertical-align: top;\n",
       "    }\n",
       "\n",
       "    .dataframe thead th {\n",
       "        text-align: right;\n",
       "    }\n",
       "</style>\n",
       "<table border=\"1\" class=\"dataframe\">\n",
       "  <thead>\n",
       "    <tr style=\"text-align: right;\">\n",
       "      <th></th>\n",
       "      <th>date</th>\n",
       "      <th>value</th>\n",
       "      <th>sensor</th>\n",
       "    </tr>\n",
       "  </thead>\n",
       "  <tbody>\n",
       "    <tr>\n",
       "      <th>0</th>\n",
       "      <td>2015-01-01</td>\n",
       "      <td>50.496714</td>\n",
       "      <td>sensor_1</td>\n",
       "    </tr>\n",
       "    <tr>\n",
       "      <th>1</th>\n",
       "      <td>2015-01-02</td>\n",
       "      <td>50.358450</td>\n",
       "      <td>sensor_1</td>\n",
       "    </tr>\n",
       "    <tr>\n",
       "      <th>2</th>\n",
       "      <td>2015-01-03</td>\n",
       "      <td>51.006138</td>\n",
       "      <td>sensor_1</td>\n",
       "    </tr>\n",
       "    <tr>\n",
       "      <th>3</th>\n",
       "      <td>2015-01-04</td>\n",
       "      <td>52.529168</td>\n",
       "      <td>sensor_1</td>\n",
       "    </tr>\n",
       "    <tr>\n",
       "      <th>4</th>\n",
       "      <td>2015-01-05</td>\n",
       "      <td>52.295015</td>\n",
       "      <td>sensor_1</td>\n",
       "    </tr>\n",
       "  </tbody>\n",
       "</table>\n",
       "</div>"
      ],
      "text/plain": [
       "         date      value    sensor\n",
       "0  2015-01-01  50.496714  sensor_1\n",
       "1  2015-01-02  50.358450  sensor_1\n",
       "2  2015-01-03  51.006138  sensor_1\n",
       "3  2015-01-04  52.529168  sensor_1\n",
       "4  2015-01-05  52.295015  sensor_1"
      ]
     },
     "execution_count": 56,
     "metadata": {},
     "output_type": "execute_result"
    }
   ],
   "source": [
    "df =pd.read_csv(\"timeseries.csv\")\n",
    "df.head()"
   ]
  },
  {
   "cell_type": "code",
   "execution_count": 58,
   "id": "47de3e29-c45d-41e6-b111-dfa2ac9b3ae0",
   "metadata": {},
   "outputs": [
    {
     "name": "stdout",
     "output_type": "stream",
     "text": [
      "<class 'pandas.core.frame.DataFrame'>\n",
      "RangeIndex: 2192 entries, 0 to 2191\n",
      "Data columns (total 3 columns):\n",
      " #   Column  Non-Null Count  Dtype  \n",
      "---  ------  --------------  -----  \n",
      " 0   date    2192 non-null   object \n",
      " 1   value   2192 non-null   float64\n",
      " 2   sensor  2192 non-null   object \n",
      "dtypes: float64(1), object(2)\n",
      "memory usage: 51.5+ KB\n"
     ]
    }
   ],
   "source": [
    "df.info()"
   ]
  },
  {
   "cell_type": "code",
   "execution_count": 60,
   "id": "59c66c35-6c7e-4fc7-9e01-808006fb71a1",
   "metadata": {},
   "outputs": [
    {
     "data": {
      "text/html": [
       "<div>\n",
       "<style scoped>\n",
       "    .dataframe tbody tr th:only-of-type {\n",
       "        vertical-align: middle;\n",
       "    }\n",
       "\n",
       "    .dataframe tbody tr th {\n",
       "        vertical-align: top;\n",
       "    }\n",
       "\n",
       "    .dataframe thead th {\n",
       "        text-align: right;\n",
       "    }\n",
       "</style>\n",
       "<table border=\"1\" class=\"dataframe\">\n",
       "  <thead>\n",
       "    <tr style=\"text-align: right;\">\n",
       "      <th></th>\n",
       "      <th>value</th>\n",
       "    </tr>\n",
       "  </thead>\n",
       "  <tbody>\n",
       "    <tr>\n",
       "      <th>count</th>\n",
       "      <td>2192.000000</td>\n",
       "    </tr>\n",
       "    <tr>\n",
       "      <th>mean</th>\n",
       "      <td>85.505029</td>\n",
       "    </tr>\n",
       "    <tr>\n",
       "      <th>std</th>\n",
       "      <td>36.107936</td>\n",
       "    </tr>\n",
       "    <tr>\n",
       "      <th>min</th>\n",
       "      <td>33.333893</td>\n",
       "    </tr>\n",
       "    <tr>\n",
       "      <th>25%</th>\n",
       "      <td>48.670106</td>\n",
       "    </tr>\n",
       "    <tr>\n",
       "      <th>50%</th>\n",
       "      <td>85.677063</td>\n",
       "    </tr>\n",
       "    <tr>\n",
       "      <th>75%</th>\n",
       "      <td>125.678756</td>\n",
       "    </tr>\n",
       "    <tr>\n",
       "      <th>max</th>\n",
       "      <td>145.498709</td>\n",
       "    </tr>\n",
       "  </tbody>\n",
       "</table>\n",
       "</div>"
      ],
      "text/plain": [
       "             value\n",
       "count  2192.000000\n",
       "mean     85.505029\n",
       "std      36.107936\n",
       "min      33.333893\n",
       "25%      48.670106\n",
       "50%      85.677063\n",
       "75%     125.678756\n",
       "max     145.498709"
      ]
     },
     "execution_count": 60,
     "metadata": {},
     "output_type": "execute_result"
    }
   ],
   "source": [
    "df.describe()"
   ]
  },
  {
   "cell_type": "code",
   "execution_count": 62,
   "id": "4d5894b5-e7ce-4f9f-b04c-886ca1adcf35",
   "metadata": {},
   "outputs": [
    {
     "data": {
      "text/plain": [
       "<Axes: >"
      ]
     },
     "execution_count": 62,
     "metadata": {},
     "output_type": "execute_result"
    },
    {
     "data": {
      "image/png": "[encoded data removed]",
      "text/plain": [
       "<Figure size 640x480 with 1 Axes>"
      ]
     },
     "metadata": {},
     "output_type": "display_data"
    }
   ],
   "source": [
    "df.plot()"
   ]
  },
  {
   "cell_type": "code",
   "execution_count": null,
   "id": "266f57c0-8e36-486c-93d0-5a59611ee342",
   "metadata": {},
   "outputs": [],
   "source": [
    "# df.to_csv('timeseries.csv')"
   ]
  },
  {
   "cell_type": "code",
   "execution_count": 68,
   "id": "d9fd75ca-4689-4a9f-a7c2-b5cb4fba4116",
   "metadata": {},
   "outputs": [
    {
     "data": {
      "text/html": [
       "<div>\n",
       "<style scoped>\n",
       "    .dataframe tbody tr th:only-of-type {\n",
       "        vertical-align: middle;\n",
       "    }\n",
       "\n",
       "    .dataframe tbody tr th {\n",
       "        vertical-align: top;\n",
       "    }\n",
       "\n",
       "    .dataframe thead th {\n",
       "        text-align: right;\n",
       "    }\n",
       "</style>\n",
       "<table border=\"1\" class=\"dataframe\">\n",
       "  <thead>\n",
       "    <tr style=\"text-align: right;\">\n",
       "      <th></th>\n",
       "      <th>date</th>\n",
       "      <th>value</th>\n",
       "      <th>sensor</th>\n",
       "      <th>rolling_mean</th>\n",
       "    </tr>\n",
       "  </thead>\n",
       "  <tbody>\n",
       "    <tr>\n",
       "      <th>0</th>\n",
       "      <td>2015-01-01</td>\n",
       "      <td>50.496714</td>\n",
       "      <td>sensor_1</td>\n",
       "      <td>NaN</td>\n",
       "    </tr>\n",
       "    <tr>\n",
       "      <th>1</th>\n",
       "      <td>2015-01-02</td>\n",
       "      <td>50.358450</td>\n",
       "      <td>sensor_1</td>\n",
       "      <td>NaN</td>\n",
       "    </tr>\n",
       "    <tr>\n",
       "      <th>2</th>\n",
       "      <td>2015-01-03</td>\n",
       "      <td>51.006138</td>\n",
       "      <td>sensor_1</td>\n",
       "      <td>NaN</td>\n",
       "    </tr>\n",
       "    <tr>\n",
       "      <th>3</th>\n",
       "      <td>2015-01-04</td>\n",
       "      <td>52.529168</td>\n",
       "      <td>sensor_1</td>\n",
       "      <td>NaN</td>\n",
       "    </tr>\n",
       "    <tr>\n",
       "      <th>4</th>\n",
       "      <td>2015-01-05</td>\n",
       "      <td>52.295015</td>\n",
       "      <td>sensor_1</td>\n",
       "      <td>NaN</td>\n",
       "    </tr>\n",
       "    <tr>\n",
       "      <th>...</th>\n",
       "      <td>...</td>\n",
       "      <td>...</td>\n",
       "      <td>...</td>\n",
       "      <td>...</td>\n",
       "    </tr>\n",
       "    <tr>\n",
       "      <th>2187</th>\n",
       "      <td>2020-12-27</td>\n",
       "      <td>127.492543</td>\n",
       "      <td>sensor_1</td>\n",
       "      <td>128.395391</td>\n",
       "    </tr>\n",
       "    <tr>\n",
       "      <th>2188</th>\n",
       "      <td>2020-12-28</td>\n",
       "      <td>127.063298</td>\n",
       "      <td>sensor_1</td>\n",
       "      <td>128.400544</td>\n",
       "    </tr>\n",
       "    <tr>\n",
       "      <th>2189</th>\n",
       "      <td>2020-12-29</td>\n",
       "      <td>127.651852</td>\n",
       "      <td>sensor_1</td>\n",
       "      <td>128.439348</td>\n",
       "    </tr>\n",
       "    <tr>\n",
       "      <th>2190</th>\n",
       "      <td>2020-12-30</td>\n",
       "      <td>126.053727</td>\n",
       "      <td>sensor_1</td>\n",
       "      <td>128.176342</td>\n",
       "    </tr>\n",
       "    <tr>\n",
       "      <th>2191</th>\n",
       "      <td>2020-12-31</td>\n",
       "      <td>126.515900</td>\n",
       "      <td>sensor_1</td>\n",
       "      <td>127.951283</td>\n",
       "    </tr>\n",
       "  </tbody>\n",
       "</table>\n",
       "<p>2192 rows × 4 columns</p>\n",
       "</div>"
      ],
      "text/plain": [
       "            date       value    sensor  rolling_mean\n",
       "0     2015-01-01   50.496714  sensor_1           NaN\n",
       "1     2015-01-02   50.358450  sensor_1           NaN\n",
       "2     2015-01-03   51.006138  sensor_1           NaN\n",
       "3     2015-01-04   52.529168  sensor_1           NaN\n",
       "4     2015-01-05   52.295015  sensor_1           NaN\n",
       "...          ...         ...       ...           ...\n",
       "2187  2020-12-27  127.492543  sensor_1    128.395391\n",
       "2188  2020-12-28  127.063298  sensor_1    128.400544\n",
       "2189  2020-12-29  127.651852  sensor_1    128.439348\n",
       "2190  2020-12-30  126.053727  sensor_1    128.176342\n",
       "2191  2020-12-31  126.515900  sensor_1    127.951283\n",
       "\n",
       "[2192 rows x 4 columns]"
      ]
     },
     "execution_count": 68,
     "metadata": {},
     "output_type": "execute_result"
    }
   ],
   "source": [
    "# Advanced Data Manipulation\n",
    "# --------------------------\n",
    "\n",
    "# Resample the data to monthly frequency and calculate the mean\n",
    "df_monthly = df.copy()\n",
    "\n",
    "# Calculate rolling mean and standard deviation\n",
    "df_monthly['rolling_mean'] = df_monthly['value'].rolling(window=12).mean()\n",
    "df_monthly\n",
    "# df_monthly['rolling_std'] = df_monthly['value'].rolling(window=12).std()"
   ]
  },
  {
   "cell_type": "code",
   "execution_count": 70,
   "id": "9dc19837-d5b6-46c9-9b15-821ea3dc824c",
   "metadata": {},
   "outputs": [
    {
     "data": {
      "text/plain": [
       "<Axes: >"
      ]
     },
     "execution_count": 70,
     "metadata": {},
     "output_type": "execute_result"
    },
    {
     "data": {
      "image/png": "[encoded data removed]",
      "text/plain": [
       "<Figure size 640x480 with 1 Axes>"
      ]
     },
     "metadata": {},
     "output_type": "display_data"
    }
   ],
   "source": [
    "df_monthly[\"value\"].plot()"
   ]
  },
  {
   "cell_type": "code",
   "execution_count": 72,
   "id": "4900d4c6-8bee-4fa6-90c2-e7785848e231",
   "metadata": {},
   "outputs": [
    {
     "data": {
      "text/plain": [
       "<Axes: >"
      ]
     },
     "execution_count": 72,
     "metadata": {},
     "output_type": "execute_result"
    },
    {
     "data": {
      "image/png": "[encoded data removed]",
      "text/plain": [
       "<Figure size 640x480 with 1 Axes>"
      ]
     },
     "metadata": {},
     "output_type": "display_data"
    }
   ],
   "source": [
    "df_monthly[\"rolling_mean\"].plot()"
   ]
  },
  {
   "cell_type": "code",
   "execution_count": 74,
   "id": "4eff2ec4-de21-421f-bed3-a82811042d6a",
   "metadata": {},
   "outputs": [
    {
     "data": {
      "text/plain": [
       "0              NaN\n",
       "1              NaN\n",
       "2              NaN\n",
       "3              NaN\n",
       "4              NaN\n",
       "           ...    \n",
       "2187    128.395391\n",
       "2188    128.400544\n",
       "2189    128.439348\n",
       "2190    128.176342\n",
       "2191    127.951283\n",
       "Name: rolling_mean, Length: 2192, dtype: float64"
      ]
     },
     "execution_count": 74,
     "metadata": {},
     "output_type": "execute_result"
    }
   ],
   "source": [
    "df_monthly[\"rolling_mean\"]"
   ]
  },
  {
   "cell_type": "code",
   "execution_count": 76,
   "id": "6105d75f-77f6-4dc9-8d7d-4a24db07fe56",
   "metadata": {},
   "outputs": [
    {
     "data": {
      "text/html": [
       "<div>\n",
       "<style scoped>\n",
       "    .dataframe tbody tr th:only-of-type {\n",
       "        vertical-align: middle;\n",
       "    }\n",
       "\n",
       "    .dataframe tbody tr th {\n",
       "        vertical-align: top;\n",
       "    }\n",
       "\n",
       "    .dataframe thead th {\n",
       "        text-align: right;\n",
       "    }\n",
       "</style>\n",
       "<table border=\"1\" class=\"dataframe\">\n",
       "  <thead>\n",
       "    <tr style=\"text-align: right;\">\n",
       "      <th></th>\n",
       "      <th>date</th>\n",
       "      <th>value</th>\n",
       "      <th>sensor</th>\n",
       "      <th>rolling_mean</th>\n",
       "    </tr>\n",
       "  </thead>\n",
       "  <tbody>\n",
       "    <tr>\n",
       "      <th>0</th>\n",
       "      <td>2015-01-01</td>\n",
       "      <td>50.496714</td>\n",
       "      <td>sensor_1</td>\n",
       "      <td>NaN</td>\n",
       "    </tr>\n",
       "    <tr>\n",
       "      <th>1</th>\n",
       "      <td>2015-01-02</td>\n",
       "      <td>50.358450</td>\n",
       "      <td>sensor_1</td>\n",
       "      <td>NaN</td>\n",
       "    </tr>\n",
       "    <tr>\n",
       "      <th>2</th>\n",
       "      <td>2015-01-03</td>\n",
       "      <td>51.006138</td>\n",
       "      <td>sensor_1</td>\n",
       "      <td>NaN</td>\n",
       "    </tr>\n",
       "    <tr>\n",
       "      <th>3</th>\n",
       "      <td>2015-01-04</td>\n",
       "      <td>52.529168</td>\n",
       "      <td>sensor_1</td>\n",
       "      <td>NaN</td>\n",
       "    </tr>\n",
       "    <tr>\n",
       "      <th>4</th>\n",
       "      <td>2015-01-05</td>\n",
       "      <td>52.295015</td>\n",
       "      <td>sensor_1</td>\n",
       "      <td>NaN</td>\n",
       "    </tr>\n",
       "    <tr>\n",
       "      <th>...</th>\n",
       "      <td>...</td>\n",
       "      <td>...</td>\n",
       "      <td>...</td>\n",
       "      <td>...</td>\n",
       "    </tr>\n",
       "    <tr>\n",
       "      <th>2187</th>\n",
       "      <td>2020-12-27</td>\n",
       "      <td>127.492543</td>\n",
       "      <td>sensor_1</td>\n",
       "      <td>128.395391</td>\n",
       "    </tr>\n",
       "    <tr>\n",
       "      <th>2188</th>\n",
       "      <td>2020-12-28</td>\n",
       "      <td>127.063298</td>\n",
       "      <td>sensor_1</td>\n",
       "      <td>128.400544</td>\n",
       "    </tr>\n",
       "    <tr>\n",
       "      <th>2189</th>\n",
       "      <td>2020-12-29</td>\n",
       "      <td>127.651852</td>\n",
       "      <td>sensor_1</td>\n",
       "      <td>128.439348</td>\n",
       "    </tr>\n",
       "    <tr>\n",
       "      <th>2190</th>\n",
       "      <td>2020-12-30</td>\n",
       "      <td>126.053727</td>\n",
       "      <td>sensor_1</td>\n",
       "      <td>128.176342</td>\n",
       "    </tr>\n",
       "    <tr>\n",
       "      <th>2191</th>\n",
       "      <td>2020-12-31</td>\n",
       "      <td>126.515900</td>\n",
       "      <td>sensor_1</td>\n",
       "      <td>127.951283</td>\n",
       "    </tr>\n",
       "  </tbody>\n",
       "</table>\n",
       "<p>2192 rows × 4 columns</p>\n",
       "</div>"
      ],
      "text/plain": [
       "            date       value    sensor  rolling_mean\n",
       "0     2015-01-01   50.496714  sensor_1           NaN\n",
       "1     2015-01-02   50.358450  sensor_1           NaN\n",
       "2     2015-01-03   51.006138  sensor_1           NaN\n",
       "3     2015-01-04   52.529168  sensor_1           NaN\n",
       "4     2015-01-05   52.295015  sensor_1           NaN\n",
       "...          ...         ...       ...           ...\n",
       "2187  2020-12-27  127.492543  sensor_1    128.395391\n",
       "2188  2020-12-28  127.063298  sensor_1    128.400544\n",
       "2189  2020-12-29  127.651852  sensor_1    128.439348\n",
       "2190  2020-12-30  126.053727  sensor_1    128.176342\n",
       "2191  2020-12-31  126.515900  sensor_1    127.951283\n",
       "\n",
       "[2192 rows x 4 columns]"
      ]
     },
     "execution_count": 76,
     "metadata": {},
     "output_type": "execute_result"
    }
   ],
   "source": [
    " #Handling missing data by introducing NaNs and filling them\n",
    "df_monthly_nan = df_monthly.copy()\n",
    "df_monthly_nan.iloc[5:10] = np.nan  # Introduce NaN values\n",
    "df_monthly_nan"
   ]
  },
  {
   "cell_type": "code",
   "execution_count": 88,
   "id": "25aa59b5-a36f-4785-a0f8-1ef563a3cebc",
   "metadata": {},
   "outputs": [
    {
     "data": {
      "text/html": [
       "<div>\n",
       "<style scoped>\n",
       "    .dataframe tbody tr th:only-of-type {\n",
       "        vertical-align: middle;\n",
       "    }\n",
       "\n",
       "    .dataframe tbody tr th {\n",
       "        vertical-align: top;\n",
       "    }\n",
       "\n",
       "    .dataframe thead th {\n",
       "        text-align: right;\n",
       "    }\n",
       "</style>\n",
       "<table border=\"1\" class=\"dataframe\">\n",
       "  <thead>\n",
       "    <tr style=\"text-align: right;\">\n",
       "      <th></th>\n",
       "      <th>date</th>\n",
       "      <th>value</th>\n",
       "      <th>sensor</th>\n",
       "      <th>rolling_mean</th>\n",
       "    </tr>\n",
       "  </thead>\n",
       "  <tbody>\n",
       "    <tr>\n",
       "      <th>0</th>\n",
       "      <td>2015-01-01</td>\n",
       "      <td>50.496714</td>\n",
       "      <td>sensor_1</td>\n",
       "      <td>85.505029</td>\n",
       "    </tr>\n",
       "    <tr>\n",
       "      <th>1</th>\n",
       "      <td>2015-01-02</td>\n",
       "      <td>50.358450</td>\n",
       "      <td>sensor_1</td>\n",
       "      <td>85.505029</td>\n",
       "    </tr>\n",
       "    <tr>\n",
       "      <th>2</th>\n",
       "      <td>2015-01-03</td>\n",
       "      <td>51.006138</td>\n",
       "      <td>sensor_1</td>\n",
       "      <td>85.505029</td>\n",
       "    </tr>\n",
       "    <tr>\n",
       "      <th>3</th>\n",
       "      <td>2015-01-04</td>\n",
       "      <td>52.529168</td>\n",
       "      <td>sensor_1</td>\n",
       "      <td>85.505029</td>\n",
       "    </tr>\n",
       "    <tr>\n",
       "      <th>4</th>\n",
       "      <td>2015-01-05</td>\n",
       "      <td>52.295015</td>\n",
       "      <td>sensor_1</td>\n",
       "      <td>85.505029</td>\n",
       "    </tr>\n",
       "    <tr>\n",
       "      <th>...</th>\n",
       "      <td>...</td>\n",
       "      <td>...</td>\n",
       "      <td>...</td>\n",
       "      <td>...</td>\n",
       "    </tr>\n",
       "    <tr>\n",
       "      <th>2187</th>\n",
       "      <td>2020-12-27</td>\n",
       "      <td>127.492543</td>\n",
       "      <td>sensor_1</td>\n",
       "      <td>128.395391</td>\n",
       "    </tr>\n",
       "    <tr>\n",
       "      <th>2188</th>\n",
       "      <td>2020-12-28</td>\n",
       "      <td>127.063298</td>\n",
       "      <td>sensor_1</td>\n",
       "      <td>128.400544</td>\n",
       "    </tr>\n",
       "    <tr>\n",
       "      <th>2189</th>\n",
       "      <td>2020-12-29</td>\n",
       "      <td>127.651852</td>\n",
       "      <td>sensor_1</td>\n",
       "      <td>128.439348</td>\n",
       "    </tr>\n",
       "    <tr>\n",
       "      <th>2190</th>\n",
       "      <td>2020-12-30</td>\n",
       "      <td>126.053727</td>\n",
       "      <td>sensor_1</td>\n",
       "      <td>128.176342</td>\n",
       "    </tr>\n",
       "    <tr>\n",
       "      <th>2191</th>\n",
       "      <td>2020-12-31</td>\n",
       "      <td>126.515900</td>\n",
       "      <td>sensor_1</td>\n",
       "      <td>127.951283</td>\n",
       "    </tr>\n",
       "  </tbody>\n",
       "</table>\n",
       "<p>2192 rows × 4 columns</p>\n",
       "</div>"
      ],
      "text/plain": [
       "            date       value    sensor  rolling_mean\n",
       "0     2015-01-01   50.496714  sensor_1     85.505029\n",
       "1     2015-01-02   50.358450  sensor_1     85.505029\n",
       "2     2015-01-03   51.006138  sensor_1     85.505029\n",
       "3     2015-01-04   52.529168  sensor_1     85.505029\n",
       "4     2015-01-05   52.295015  sensor_1     85.505029\n",
       "...          ...         ...       ...           ...\n",
       "2187  2020-12-27  127.492543  sensor_1    128.395391\n",
       "2188  2020-12-28  127.063298  sensor_1    128.400544\n",
       "2189  2020-12-29  127.651852  sensor_1    128.439348\n",
       "2190  2020-12-30  126.053727  sensor_1    128.176342\n",
       "2191  2020-12-31  126.515900  sensor_1    127.951283\n",
       "\n",
       "[2192 rows x 4 columns]"
      ]
     },
     "execution_count": 88,
     "metadata": {},
     "output_type": "execute_result"
    }
   ],
   "source": [
    "# Forward fill missing values\n",
    "df_monthly_filled = df_monthly_nan.fillna(df[\"value\"].mean())\n",
    "df_monthly_filled"
   ]
  },
  {
   "cell_type": "code",
   "execution_count": null,
   "id": "3e157886-46a4-4113-a057-442f7edcae69",
   "metadata": {},
   "outputs": [],
   "source": [
    "# # Assume we have data from two sensors\n",
    "# df['sensor'] = 'sensor_1'\n",
    "# df_sensor2 = df.copy()\n",
    "# df_sensor2['sensor'] = 'sensor_2'\n",
    "# df_sensor2['value'] = df_sensor2['value'] + np.random.normal(0, 5, len(df_sensor2))\n",
    "# df_sensor2"
   ]
  },
  {
   "cell_type": "code",
   "execution_count": null,
   "id": "f594c884-0e39-447d-a4dc-cd9cc25c89f0",
   "metadata": {},
   "outputs": [],
   "source": [
    "# Combine the datasets\n",
    "# df_combined = pd.concat([df, df_sensor2])\n",
    "# df_combined"
   ]
  },
  {
   "cell_type": "code",
   "execution_count": null,
   "id": "b7db253f-595b-4868-b827-8d6896f56a1e",
   "metadata": {},
   "outputs": [],
   "source": [
    "# Set a hierarchical index\n",
    "# df_combined = df_combined.reset_index()\n",
    "# df_combined = df_combined.set_index(['sensor', 'date'])\n",
    "# df_combined"
   ]
  },
  {
   "cell_type": "code",
   "execution_count": null,
   "id": "2ef87adb-09d1-49f3-a8cf-3ccad6905037",
   "metadata": {},
   "outputs": [],
   "source": [
    "# Display data for sensor_1\n",
    "# print(\"\\nData for sensor_1:\")\n",
    "# print(df_combined.loc['sensor_1'].head())"
   ]
  },
  {
   "cell_type": "code",
   "execution_count": 92,
   "id": "2a83c975-dfeb-4cae-a3da-e611769bff99",
   "metadata": {},
   "outputs": [
    {
     "data": {
      "text/plain": [
       "0        85.505029\n",
       "1        85.505029\n",
       "2        85.505029\n",
       "3        85.505029\n",
       "4        85.505029\n",
       "           ...    \n",
       "1822    131.764929\n",
       "1823    131.460829\n",
       "1824    131.036431\n",
       "1825    130.574125\n",
       "1826    130.043330\n",
       "Name: rolling_mean, Length: 1827, dtype: float64"
      ]
     },
     "execution_count": 92,
     "metadata": {},
     "output_type": "execute_result"
    }
   ],
   "source": [
    "# Time Series Analysis and Forecasting\n",
    "# ------------------------------------\n",
    "\n",
    "# Select data for sensor_1\n",
    "df_sensor1 = df_monthly_filled[\"rolling_mean\"]\n",
    "\n",
    "# Split data into training and testing sets\n",
    "train = df_sensor1.iloc[:-365]\n",
    "test = df_sensor1.iloc[-365:]\n",
    "\n",
    "train"
   ]
  },
  {
   "cell_type": "code",
   "execution_count": 97,
   "id": "aab0754f-2f6c-4b8a-8c77-53afeac84d95",
   "metadata": {},
   "outputs": [],
   "source": [
    "from statsmodels.tsa.arima.model import ARIMA"
   ]
  },
  {
   "cell_type": "code",
   "execution_count": 111,
   "id": "8ada0cf6-52ae-488a-ad92-5337573f9a93",
   "metadata": {},
   "outputs": [],
   "source": [
    "# Fit an ARIMA model\n",
    "model = ARIMA(train, order=(4,1,0))\n",
    "model_fit = model.fit()\n"
   ]
  },
  {
   "cell_type": "code",
   "execution_count": 113,
   "id": "c389ddf8-2c75-469f-92d3-e72b83b45893",
   "metadata": {},
   "outputs": [
    {
     "data": {
      "text/html": [
       "<div>\n",
       "<style scoped>\n",
       "    .dataframe tbody tr th:only-of-type {\n",
       "        vertical-align: middle;\n",
       "    }\n",
       "\n",
       "    .dataframe tbody tr th {\n",
       "        vertical-align: top;\n",
       "    }\n",
       "\n",
       "    .dataframe thead th {\n",
       "        text-align: right;\n",
       "    }\n",
       "</style>\n",
       "<table border=\"1\" class=\"dataframe\">\n",
       "  <thead>\n",
       "    <tr style=\"text-align: right;\">\n",
       "      <th></th>\n",
       "      <th>forecast</th>\n",
       "    </tr>\n",
       "  </thead>\n",
       "  <tbody>\n",
       "    <tr>\n",
       "      <th>1827</th>\n",
       "      <td>129.911640</td>\n",
       "    </tr>\n",
       "    <tr>\n",
       "      <th>1828</th>\n",
       "      <td>129.797553</td>\n",
       "    </tr>\n",
       "    <tr>\n",
       "      <th>1829</th>\n",
       "      <td>129.708234</td>\n",
       "    </tr>\n",
       "    <tr>\n",
       "      <th>1830</th>\n",
       "      <td>129.646656</td>\n",
       "    </tr>\n",
       "    <tr>\n",
       "      <th>1831</th>\n",
       "      <td>129.617447</td>\n",
       "    </tr>\n",
       "    <tr>\n",
       "      <th>...</th>\n",
       "      <td>...</td>\n",
       "    </tr>\n",
       "    <tr>\n",
       "      <th>2187</th>\n",
       "      <td>129.556913</td>\n",
       "    </tr>\n",
       "    <tr>\n",
       "      <th>2188</th>\n",
       "      <td>129.556913</td>\n",
       "    </tr>\n",
       "    <tr>\n",
       "      <th>2189</th>\n",
       "      <td>129.556913</td>\n",
       "    </tr>\n",
       "    <tr>\n",
       "      <th>2190</th>\n",
       "      <td>129.556913</td>\n",
       "    </tr>\n",
       "    <tr>\n",
       "      <th>2191</th>\n",
       "      <td>129.556913</td>\n",
       "    </tr>\n",
       "  </tbody>\n",
       "</table>\n",
       "<p>365 rows × 1 columns</p>\n",
       "</div>"
      ],
      "text/plain": [
       "        forecast\n",
       "1827  129.911640\n",
       "1828  129.797553\n",
       "1829  129.708234\n",
       "1830  129.646656\n",
       "1831  129.617447\n",
       "...          ...\n",
       "2187  129.556913\n",
       "2188  129.556913\n",
       "2189  129.556913\n",
       "2190  129.556913\n",
       "2191  129.556913\n",
       "\n",
       "[365 rows x 1 columns]"
      ]
     },
     "execution_count": 113,
     "metadata": {},
     "output_type": "execute_result"
    }
   ],
   "source": [
    "# Forecast for the test period\n",
    "forecast = model_fit.forecast(steps=365)\n",
    "forecast = forecast.to_frame(name='forecast')\n",
    "forecast"
   ]
  },
  {
   "cell_type": "code",
   "execution_count": 115,
   "id": "b57e9ae1-5a16-42c0-8ba8-df7dad1904f3",
   "metadata": {},
   "outputs": [
    {
     "data": {
      "text/html": [
       "<div>\n",
       "<style scoped>\n",
       "    .dataframe tbody tr th:only-of-type {\n",
       "        vertical-align: middle;\n",
       "    }\n",
       "\n",
       "    .dataframe tbody tr th {\n",
       "        vertical-align: top;\n",
       "    }\n",
       "\n",
       "    .dataframe thead th {\n",
       "        text-align: right;\n",
       "    }\n",
       "</style>\n",
       "<table border=\"1\" class=\"dataframe\">\n",
       "  <thead>\n",
       "    <tr style=\"text-align: right;\">\n",
       "      <th></th>\n",
       "      <th>rolling_mean</th>\n",
       "      <th>forecast</th>\n",
       "    </tr>\n",
       "  </thead>\n",
       "  <tbody>\n",
       "    <tr>\n",
       "      <th>1827</th>\n",
       "      <td>129.704379</td>\n",
       "      <td>129.911640</td>\n",
       "    </tr>\n",
       "    <tr>\n",
       "      <th>1828</th>\n",
       "      <td>129.536530</td>\n",
       "      <td>129.797553</td>\n",
       "    </tr>\n",
       "    <tr>\n",
       "      <th>1829</th>\n",
       "      <td>129.430182</td>\n",
       "      <td>129.708234</td>\n",
       "    </tr>\n",
       "    <tr>\n",
       "      <th>1830</th>\n",
       "      <td>129.400445</td>\n",
       "      <td>129.646656</td>\n",
       "    </tr>\n",
       "    <tr>\n",
       "      <th>1831</th>\n",
       "      <td>129.472408</td>\n",
       "      <td>129.617447</td>\n",
       "    </tr>\n",
       "    <tr>\n",
       "      <th>...</th>\n",
       "      <td>...</td>\n",
       "      <td>...</td>\n",
       "    </tr>\n",
       "    <tr>\n",
       "      <th>2187</th>\n",
       "      <td>128.395391</td>\n",
       "      <td>129.556913</td>\n",
       "    </tr>\n",
       "    <tr>\n",
       "      <th>2188</th>\n",
       "      <td>128.400544</td>\n",
       "      <td>129.556913</td>\n",
       "    </tr>\n",
       "    <tr>\n",
       "      <th>2189</th>\n",
       "      <td>128.439348</td>\n",
       "      <td>129.556913</td>\n",
       "    </tr>\n",
       "    <tr>\n",
       "      <th>2190</th>\n",
       "      <td>128.176342</td>\n",
       "      <td>129.556913</td>\n",
       "    </tr>\n",
       "    <tr>\n",
       "      <th>2191</th>\n",
       "      <td>127.951283</td>\n",
       "      <td>129.556913</td>\n",
       "    </tr>\n",
       "  </tbody>\n",
       "</table>\n",
       "<p>365 rows × 2 columns</p>\n",
       "</div>"
      ],
      "text/plain": [
       "      rolling_mean    forecast\n",
       "1827    129.704379  129.911640\n",
       "1828    129.536530  129.797553\n",
       "1829    129.430182  129.708234\n",
       "1830    129.400445  129.646656\n",
       "1831    129.472408  129.617447\n",
       "...            ...         ...\n",
       "2187    128.395391  129.556913\n",
       "2188    128.400544  129.556913\n",
       "2189    128.439348  129.556913\n",
       "2190    128.176342  129.556913\n",
       "2191    127.951283  129.556913\n",
       "\n",
       "[365 rows x 2 columns]"
      ]
     },
     "execution_count": 115,
     "metadata": {},
     "output_type": "execute_result"
    }
   ],
   "source": [
    "# Combine actual and forecasted values\n",
    "df_forecast = pd.concat([test, forecast], axis=1)\n",
    "df_forecast"
   ]
  },
  {
   "cell_type": "code",
   "execution_count": 117,
   "id": "db7d9026-fa2d-4d80-b495-5e0b65d9adcf",
   "metadata": {},
   "outputs": [],
   "source": [
    "import matplotlib.pyplot as plt"
   ]
  },
  {
   "cell_type": "code",
   "execution_count": 119,
   "id": "918d3618-5266-4684-88ab-5b874bde1e06",
   "metadata": {},
   "outputs": [
    {
     "data": {
      "image/png": "[encoded data removed]",
      "text/plain": [
       "<Figure size 1200x600 with 1 Axes>"
      ]
     },
     "metadata": {},
     "output_type": "display_data"
    }
   ],
   "source": [
    "# Plot the results\n",
    "plt.figure(figsize=(12,6))\n",
    "plt.plot(train, label='Training Data')\n",
    "plt.plot(test, label='Test Data')\n",
    "plt.plot(forecast['forecast'], label='Forecast', color='red')\n",
    "plt.title('Time Series Forecasting with ARIMA')\n",
    "plt.xlabel('Date')\n",
    "plt.ylabel('Value')\n",
    "plt.legend()\n",
    "plt.show()"
   ]
  },
  {
   "cell_type": "code",
   "execution_count": null,
   "id": "c55c3e10-0790-4d5f-9e9e-a3e7a55b3d3b",
   "metadata": {},
   "outputs": [],
   "source": []
  },
  {
   "cell_type": "code",
   "execution_count": null,
   "id": "6a6fe07d-1238-4b4b-9bf8-afd819cb837f",
   "metadata": {},
   "outputs": [],
   "source": []
  },
  {
   "cell_type": "code",
   "execution_count": null,
   "id": "ae8ec9c0-fdbd-4009-8132-9c404715d68a",
   "metadata": {},
   "outputs": [],
   "source": []
  },
  {
   "cell_type": "code",
   "execution_count": null,
   "id": "4b03b28f-9aff-4ee0-bc8d-4316ace39db1",
   "metadata": {},
   "outputs": [],
   "source": []
  },
  {
   "cell_type": "code",
   "execution_count": null,
   "id": "829fd3a0-78eb-4fb7-b31a-967f19d0a57b",
   "metadata": {},
   "outputs": [],
   "source": []
  }
 ],
 "metadata": {
  "kernelspec": {
   "display_name": "Python 3 (ipykernel)",
   "language": "python",
   "name": "python3"
  },
  "language_info": {
   "codemirror_mode": {
    "name": "ipython",
    "version": 3
   },
   "file_extension": ".py",
   "mimetype": "text/x-python",
   "name": "python",
   "nbconvert_exporter": "python",
   "pygments_lexer": "ipython3",
   "version": "3.11.7"
  }
 },
 "nbformat": 4,
 "nbformat_minor": 5
}
